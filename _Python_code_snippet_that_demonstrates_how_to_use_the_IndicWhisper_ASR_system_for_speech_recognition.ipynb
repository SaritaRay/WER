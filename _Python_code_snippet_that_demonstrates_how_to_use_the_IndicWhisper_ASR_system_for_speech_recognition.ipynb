{
 "cells": [
  {
   "cell_type": "code",
   "execution_count": null,
   "id": "83b8fe5d-0bb6-494b-bff4-7535c86ac032",
   "metadata": {},
   "outputs": [],
   "source": [
    "# Import necessary libraries\n",
    "!pip install transformers torch\n",
    "import torch\n",
    "from transformers import Wav2Vec2ForCTC, Wav2Vec2Tokenizer\n",
    "\n",
    "# Load the pre-trained IndicWhisper model\n",
    "model_name = \"ai4bharat/indic-wav2vec2-large\"\n",
    "tokenizer = Wav2Vec2Tokenizer.from_pretrained(model_name)\n",
    "model = Wav2Vec2ForCTC.from_pretrained(model_name)\n",
    "\n",
    "# Example audio file path (replace with your own audio file)\n",
    "audio_file_path = r\"C:\\Users\\Administrator\\OneDrive\\Desktop\\Audio\"\n",
    "\n",
    "# Load audio and tokenize\n",
    "input_values = tokenizer(audio_file_path, return_tensors=\"pt\").input_values\n",
    "\n",
    "# Perform inference\n",
    "with torch.no_grad():\n",
    "    logits = model(input_values).logits\n",
    "\n",
    "# Decode the predicted tokens\n",
    "predicted_ids = torch.argmax(logits, dim=-1)\n",
    "transcription = tokenizer.batch_decode(predicted_ids)[0]\n",
    "\n",
    "print(f\"Transcription: {transcription}\")\n"
   ]
  }
 ],
 "metadata": {
  "kernelspec": {
   "display_name": "Python 3 (ipykernel)",
   "language": "python",
   "name": "python3"
  },
  "language_info": {
   "codemirror_mode": {
    "name": "ipython",
    "version": 3
   },
   "file_extension": ".py",
   "mimetype": "text/x-python",
   "name": "python",
   "nbconvert_exporter": "python",
   "pygments_lexer": "ipython3",
   "version": "3.11.7"
  }
 },
 "nbformat": 4,
 "nbformat_minor": 5
}
